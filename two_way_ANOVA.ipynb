{
  "nbformat": 4,
  "nbformat_minor": 0,
  "metadata": {
    "colab": {
      "name": "two_way_ANOVA.ipynb",
      "provenance": [],
      "collapsed_sections": []
    },
    "kernelspec": {
      "name": "python3",
      "display_name": "Python 3"
    }
  },
  "cells": [
    {
      "cell_type": "code",
      "metadata": {
        "id": "K1-73vcL9vec"
      },
      "source": [
        "def anova2(data, columna_medicion, columna_factor1, columna_factor2):\n",
        "  import statsmodels.api as sm\n",
        "  from statsmodels.formula.api import ols\n",
        "  df_lm = ols(str(columna_medicion) + '~ C(' + str(columna_factor1)+', Sum)*C(' + str(columna_factor2) + ', Sum)', data=df).fit()\n",
        "  table = sm.stats.anova_lm(df_lm, typ=2)\n",
        "  return table"
      ],
      "execution_count": null,
      "outputs": []
    }
  ]
}