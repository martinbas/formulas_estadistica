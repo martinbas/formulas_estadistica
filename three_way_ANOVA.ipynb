{
  "nbformat": 4,
  "nbformat_minor": 0,
  "metadata": {
    "colab": {
      "name": "three_way_ANOVA",
      "provenance": [],
      "collapsed_sections": []
    },
    "kernelspec": {
      "name": "python3",
      "display_name": "Python 3"
    }
  },
  "cells": [
    {
      "cell_type": "code",
      "metadata": {
        "id": "fXiKLiXCCX7i"
      },
      "source": [
        "def anova3(data, columna_medicion, columna_factor1, columna_factor2, columna_factor3):\n",
        "  import statsmodels.api as sm\n",
        "  from statsmodels.formula.api import ols\n",
        "  df_lm = ols(str(columna_medicion) + '~ C(' + str(columna_factor1)+', Sum)*C(' + \n",
        "              str(columna_factor2) + ', Sum)*C(' + str(columna_factor3) + ',Sum)', data=df).fit()\n",
        "  table = sm.stats.anova_lm(df_lm, typ=3)\n",
        "  return table"
      ],
      "execution_count": null,
      "outputs": []
    }
  ]
}